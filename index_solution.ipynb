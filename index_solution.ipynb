{
 "cells": [
  {
   "cell_type": "markdown",
   "metadata": {},
   "source": [
    "# Gradient Descent with SGD Regressor"
   ]
  },
  {
   "cell_type": "markdown",
   "metadata": {},
   "source": [
    "## Gradient Descent"
   ]
  },
  {
   "cell_type": "markdown",
   "metadata": {},
   "source": [
    "Question: What is a loss function? (Explain it in terms of the relationship between true and predicted values) \n"
   ]
  },
  {
   "cell_type": "markdown",
   "metadata": {},
   "source": [
    "Question: What loss functions do we know?"
   ]
  },
  {
   "cell_type": "markdown",
   "metadata": {},
   "source": [
    "To solidify our knowledge of gradient descent, we will use Sklearn's stochastic gradient descent algorithm for regression [SGDRegressor](https://scikit-learn.org/stable/modules/sgd.html#regression).   Sklearn classifiers share many methods and parameters, such as fit/predict, but some have useful additions.  SGDRegressor has a new method called partial_fit, which will allow us to inspect the calculated coefficients after each step of gradient descent.  "
   ]
  },
  {
   "cell_type": "markdown",
   "metadata": {},
   "source": [
    "We will use the boston dataset for this task.  "
   ]
  },
  {
   "cell_type": "code",
   "execution_count": 59,
   "metadata": {},
   "outputs": [],
   "source": [
    "from sklearn.datasets import load_boston\n",
    "import numpy as np\n",
    "import pandas as pd\n",
    "\n",
    "data = load_boston()\n",
    "X = pd.DataFrame(data['data'], columns=data.feature_names)\n",
    "y = data['target']"
   ]
  },
  {
   "cell_type": "code",
   "execution_count": 60,
   "metadata": {},
   "outputs": [
    {
     "data": {
      "text/plain": [
       "(506, 13)"
      ]
     },
     "execution_count": 60,
     "metadata": {},
     "output_type": "execute_result"
    }
   ],
   "source": [
    "X.shape"
   ]
  },
  {
   "cell_type": "code",
   "execution_count": 61,
   "metadata": {},
   "outputs": [
    {
     "data": {
      "text/html": [
       "<div>\n",
       "<style scoped>\n",
       "    .dataframe tbody tr th:only-of-type {\n",
       "        vertical-align: middle;\n",
       "    }\n",
       "\n",
       "    .dataframe tbody tr th {\n",
       "        vertical-align: top;\n",
       "    }\n",
       "\n",
       "    .dataframe thead th {\n",
       "        text-align: right;\n",
       "    }\n",
       "</style>\n",
       "<table border=\"1\" class=\"dataframe\">\n",
       "  <thead>\n",
       "    <tr style=\"text-align: right;\">\n",
       "      <th></th>\n",
       "      <th>CRIM</th>\n",
       "      <th>ZN</th>\n",
       "      <th>INDUS</th>\n",
       "      <th>CHAS</th>\n",
       "      <th>NOX</th>\n",
       "      <th>RM</th>\n",
       "      <th>AGE</th>\n",
       "      <th>DIS</th>\n",
       "      <th>RAD</th>\n",
       "      <th>TAX</th>\n",
       "      <th>PTRATIO</th>\n",
       "      <th>B</th>\n",
       "      <th>LSTAT</th>\n",
       "    </tr>\n",
       "  </thead>\n",
       "  <tbody>\n",
       "    <tr>\n",
       "      <th>0</th>\n",
       "      <td>0.00632</td>\n",
       "      <td>18.0</td>\n",
       "      <td>2.31</td>\n",
       "      <td>0.0</td>\n",
       "      <td>0.538</td>\n",
       "      <td>6.575</td>\n",
       "      <td>65.2</td>\n",
       "      <td>4.0900</td>\n",
       "      <td>1.0</td>\n",
       "      <td>296.0</td>\n",
       "      <td>15.3</td>\n",
       "      <td>396.90</td>\n",
       "      <td>4.98</td>\n",
       "    </tr>\n",
       "    <tr>\n",
       "      <th>1</th>\n",
       "      <td>0.02731</td>\n",
       "      <td>0.0</td>\n",
       "      <td>7.07</td>\n",
       "      <td>0.0</td>\n",
       "      <td>0.469</td>\n",
       "      <td>6.421</td>\n",
       "      <td>78.9</td>\n",
       "      <td>4.9671</td>\n",
       "      <td>2.0</td>\n",
       "      <td>242.0</td>\n",
       "      <td>17.8</td>\n",
       "      <td>396.90</td>\n",
       "      <td>9.14</td>\n",
       "    </tr>\n",
       "    <tr>\n",
       "      <th>2</th>\n",
       "      <td>0.02729</td>\n",
       "      <td>0.0</td>\n",
       "      <td>7.07</td>\n",
       "      <td>0.0</td>\n",
       "      <td>0.469</td>\n",
       "      <td>7.185</td>\n",
       "      <td>61.1</td>\n",
       "      <td>4.9671</td>\n",
       "      <td>2.0</td>\n",
       "      <td>242.0</td>\n",
       "      <td>17.8</td>\n",
       "      <td>392.83</td>\n",
       "      <td>4.03</td>\n",
       "    </tr>\n",
       "    <tr>\n",
       "      <th>3</th>\n",
       "      <td>0.03237</td>\n",
       "      <td>0.0</td>\n",
       "      <td>2.18</td>\n",
       "      <td>0.0</td>\n",
       "      <td>0.458</td>\n",
       "      <td>6.998</td>\n",
       "      <td>45.8</td>\n",
       "      <td>6.0622</td>\n",
       "      <td>3.0</td>\n",
       "      <td>222.0</td>\n",
       "      <td>18.7</td>\n",
       "      <td>394.63</td>\n",
       "      <td>2.94</td>\n",
       "    </tr>\n",
       "    <tr>\n",
       "      <th>4</th>\n",
       "      <td>0.06905</td>\n",
       "      <td>0.0</td>\n",
       "      <td>2.18</td>\n",
       "      <td>0.0</td>\n",
       "      <td>0.458</td>\n",
       "      <td>7.147</td>\n",
       "      <td>54.2</td>\n",
       "      <td>6.0622</td>\n",
       "      <td>3.0</td>\n",
       "      <td>222.0</td>\n",
       "      <td>18.7</td>\n",
       "      <td>396.90</td>\n",
       "      <td>5.33</td>\n",
       "    </tr>\n",
       "  </tbody>\n",
       "</table>\n",
       "</div>"
      ],
      "text/plain": [
       "      CRIM    ZN  INDUS  CHAS    NOX  ...  RAD    TAX  PTRATIO       B  LSTAT\n",
       "0  0.00632  18.0   2.31   0.0  0.538  ...  1.0  296.0     15.3  396.90   4.98\n",
       "1  0.02731   0.0   7.07   0.0  0.469  ...  2.0  242.0     17.8  396.90   9.14\n",
       "2  0.02729   0.0   7.07   0.0  0.469  ...  2.0  242.0     17.8  392.83   4.03\n",
       "3  0.03237   0.0   2.18   0.0  0.458  ...  3.0  222.0     18.7  394.63   2.94\n",
       "4  0.06905   0.0   2.18   0.0  0.458  ...  3.0  222.0     18.7  396.90   5.33\n",
       "\n",
       "[5 rows x 13 columns]"
      ]
     },
     "execution_count": 61,
     "metadata": {},
     "output_type": "execute_result"
    }
   ],
   "source": [
    "X.head()"
   ]
  },
  {
   "cell_type": "markdown",
   "metadata": {},
   "source": [
    "# Sklearn Linear Regression\n",
    "\n",
    "Let's train a linear regression model with our usual tools.  This is a demo, so don't worry about train-test split or scaling."
   ]
  },
  {
   "cell_type": "code",
   "execution_count": 62,
   "metadata": {},
   "outputs": [
    {
     "data": {
      "text/plain": [
       "LinearRegression()"
      ]
     },
     "execution_count": 62,
     "metadata": {},
     "output_type": "execute_result"
    }
   ],
   "source": [
    "#__SOLUTION__\n",
    "# Import and fit a linear regression model\n",
    "\n",
    "from sklearn.linear_model import LinearRegression\n",
    "\n",
    "lr = LinearRegression()\n",
    "lr.fit(X, y)\n"
   ]
  },
  {
   "cell_type": "code",
   "execution_count": 63,
   "metadata": {},
   "outputs": [
    {
     "name": "stdout",
     "output_type": "stream",
     "text": [
      "CRIM -0.10801135783679539\n",
      "ZN 0.04642045836687953\n",
      "INDUS 0.020558626367068917\n",
      "CHAS 2.6867338193448442\n",
      "NOX -17.766611228299986\n",
      "RM 3.8098652068092282\n",
      "AGE 0.0006922246403431768\n",
      "DIS -1.47556684560025\n",
      "RAD 0.30604947898516427\n",
      "TAX -0.012334593916574021\n",
      "PTRATIO -0.9527472317072921\n",
      "B 0.00931168327379375\n",
      "LSTAT -0.5247583778554881\n"
     ]
    }
   ],
   "source": [
    "#__SOLUTION__\n",
    "# print out the coefficients next to the column names using zip\n",
    "for column, coef in zip(X.columns, lr.coef_):\n",
    "    print(column, coef)"
   ]
  },
  {
   "cell_type": "markdown",
   "metadata": {},
   "source": [
    "#__SOLUTION__\n",
    "Question: Linear regression minimizes a loss funciton.  What is that loss function? Describe that loss function.\n",
    "Mean squared error.  This is average sum of squared difference between true and predicted values."
   ]
  },
  {
   "cell_type": "code",
   "execution_count": 64,
   "metadata": {},
   "outputs": [
    {
     "data": {
      "text/plain": [
       "21.894831181729202"
      ]
     },
     "execution_count": 64,
     "metadata": {},
     "output_type": "execute_result"
    }
   ],
   "source": [
    "#__SOLUTION__\n",
    "# import mean squared error from sklearn and calculate the mse for the linear regression fit\n",
    "from sklearn.metrics import mean_squared_error\n",
    "mean_squared_error(y, lr.predict(X))\n"
   ]
  },
  {
   "cell_type": "markdown",
   "metadata": {},
   "source": [
    "This will be our point of comparison for an algorithm that finds optimal coefficients point by point."
   ]
  },
  {
   "cell_type": "markdown",
   "metadata": {},
   "source": [
    "# Stocastic Gradient Descent\n",
    "\n",
    "To reinforce the concepts of gradient descent, we will use a new sklearn regression algorithm: SGD Regressor.\n",
    "\n",
    "Stochastic gradient descent is an extreme version of gradient descent, where the gradient is calculated point by point.  The sklearn object has a new method called partial fit which returns the model coefficients after each parameter update."
   ]
  },
  {
   "cell_type": "code",
   "execution_count": 65,
   "metadata": {},
   "outputs": [
    {
     "data": {
      "text/plain": [
       "SGDRegressor()"
      ]
     },
     "execution_count": 65,
     "metadata": {},
     "output_type": "execute_result"
    }
   ],
   "source": [
    "#__SOLUTION__\n",
    "# import SGDRegressor from linear_model, and feed X,y into the partial_fit method\n",
    "from sklearn.linear_model import SGDRegressor\n",
    "sgd = SGDRegressor()\n",
    "sgd.partial_fit(X,y)"
   ]
  },
  {
   "cell_type": "code",
   "execution_count": 66,
   "metadata": {},
   "outputs": [],
   "source": [
    "def print_coef_with_names(coefs, X_cols=X.columns):\n",
    "    for column, coef in zip(X_cols, coefs):\n",
    "        print(column, coef)"
   ]
  },
  {
   "cell_type": "code",
   "execution_count": 67,
   "metadata": {},
   "outputs": [
    {
     "name": "stdout",
     "output_type": "stream",
     "text": [
      "CRIM 9248453431.19943\n",
      "ZN -157367798392.41797\n",
      "INDUS 63860889065.46721\n",
      "CHAS 12365818429.838337\n",
      "NOX 3108798768.2026725\n",
      "RM -126614072974.6004\n",
      "AGE -703254024048.0352\n",
      "DIS -95755308788.34927\n",
      "RAD 203660484964.64618\n",
      "TAX 1014860770693.7168\n",
      "PTRATIO -57235913650.13802\n",
      "B 530384291922.47473\n",
      "LSTAT 557913445708.476\n"
     ]
    }
   ],
   "source": [
    "#__SOLUTION__\n",
    "# print out the coefficients\n",
    "print_coef_with_names(sgd.coef_)"
   ]
  },
  {
   "cell_type": "code",
   "execution_count": 68,
   "metadata": {},
   "outputs": [
    {
     "data": {
      "text/plain": [
       "3.3780267683406674e+29"
      ]
     },
     "execution_count": 68,
     "metadata": {},
     "output_type": "execute_result"
    }
   ],
   "source": [
    "#__SOLUTION__\n",
    "# Calculate the MSE after the partial fit\n",
    "mean_squared_error(y, sgd.predict(X))"
   ]
  },
  {
   "cell_type": "code",
   "execution_count": 69,
   "metadata": {},
   "outputs": [
    {
     "name": "stdout",
     "output_type": "stream",
     "text": [
      "CRIM -22024619507.24189\n",
      "ZN -111143120208.08276\n",
      "INDUS -24244046502.734722\n",
      "CHAS 10510492057.118137\n",
      "NOX -2838433732.986221\n",
      "RM -131269942876.76709\n",
      "AGE -514587524378.1428\n",
      "DIS -24048365367.79538\n",
      "RAD -255209035691.49573\n",
      "TAX -1081571105108.1255\n",
      "PTRATIO -61038556753.82538\n",
      "B 117865289104.21437\n",
      "LSTAT 762617055730.6617\n"
     ]
    },
    {
     "data": {
      "text/plain": [
       "2.232891384112193e+29"
      ]
     },
     "execution_count": 69,
     "metadata": {},
     "output_type": "execute_result"
    }
   ],
   "source": [
    "#__SOLUTION__\n",
    "#repeat the partial fit, print coefs, and mean squared error\n",
    "sgd.partial_fit(X,y)\n",
    "print_coef_with_names(sgd.coef_)\n",
    "mean_squared_error(y, sgd.predict(X))"
   ]
  },
  {
   "cell_type": "markdown",
   "metadata": {},
   "source": [
    "#__SOLUTION__\n",
    "Describe what has happened to the CRIM coefficient. Make sure to reference the loss function. \n",
    "Updating the CRIM coeffient by making it more negative made the model more accurate.  We can see this when looking at the loss function, which went down."
   ]
  },
  {
   "cell_type": "code",
   "execution_count": 75,
   "metadata": {},
   "outputs": [],
   "source": [
    "#__SOLUTION__\n",
    "# Write a for loop and run partial_fit 1000 times.  \n",
    "# Store the loss and the value of the CRIME coefficient after each loop\n",
    "\n",
    "sgd = SGDRegressor()\n",
    "loss = []\n",
    "crim_coef = []\n",
    "\n",
    "for _ in range(10000):\n",
    "    sgd.partial_fit(X, y)\n",
    "    loss.append(mean_squared_error(y, sgd.predict(X)))\n",
    "    crim_coef.append(sgd.coef_[0])\n"
   ]
  },
  {
   "cell_type": "code",
   "execution_count": 79,
   "metadata": {},
   "outputs": [
    {
     "data": {
      "text/plain": [
       "[<matplotlib.lines.Line2D at 0x11ca32978>]"
      ]
     },
     "execution_count": 79,
     "metadata": {},
     "output_type": "execute_result"
    },
    {
     "data": {
      "image/png": "[encoded data removed]",
      "text/plain": [
       "<Figure size 432x288 with 1 Axes>"
      ]
     },
     "metadata": {
      "needs_background": "light"
     },
     "output_type": "display_data"
    }
   ],
   "source": [
    "#__SOLUTION__\n",
    "# plot the coef_ vs loss\n",
    "import matplotlib.pyplot as plt \n",
    "fig, ax = plt.subplots()\n",
    "ax.plot(crim_coef, loss)"
   ]
  },
  {
   "cell_type": "code",
   "execution_count": null,
   "metadata": {},
   "outputs": [],
   "source": [
    "#__SOLUTION__\n",
    "# Compare the coefficients and mean squared error to those of linear regression.\n",
    "sgd.coef_\n"
   ]
  },
  {
   "cell_type": "code",
   "execution_count": 73,
   "metadata": {},
   "outputs": [
    {
     "data": {
      "text/plain": [
       "2.0484476786581073e+28"
      ]
     },
     "execution_count": 73,
     "metadata": {},
     "output_type": "execute_result"
    }
   ],
   "source": [
    "mean_squared_error(y, sgd.predict(X))"
   ]
  },
  {
   "cell_type": "markdown",
   "metadata": {},
   "source": [
    "# Scaling"
   ]
  },
  {
   "cell_type": "markdown",
   "metadata": {},
   "source": [
    "The effects of scaling are drastic in this case.  Try performing the code above, but with scaled data.  Compare the mse of linear regression to that of stocastic gradient descent."
   ]
  },
  {
   "cell_type": "code",
   "execution_count": 83,
   "metadata": {},
   "outputs": [
    {
     "data": {
      "text/plain": [
       "22.035460200463024"
      ]
     },
     "execution_count": 83,
     "metadata": {},
     "output_type": "execute_result"
    }
   ],
   "source": [
    "from sklearn.preprocessing import StandardScaler\n",
    "\n",
    "ss = StandardScaler()\n",
    "X_sc = ss.fit_transform(X)\n",
    "\n",
    "sgd_sc = SGDRegressor()\n",
    "sgd_sc.fit(X_sc, y)\n",
    "mean_squared_error(y, sgd_sc.predict(X_sc))"
   ]
  },
  {
   "cell_type": "code",
   "execution_count": 84,
   "metadata": {},
   "outputs": [
    {
     "data": {
      "text/plain": [
       "array([-0.82598957,  0.93729946, -0.11465939,  0.73201581, -1.86018918,\n",
       "        2.7420822 , -0.00778865, -3.05488737,  1.93700234, -1.22918969,\n",
       "       -1.99045338,  0.85640588, -3.68985731])"
      ]
     },
     "execution_count": 84,
     "metadata": {},
     "output_type": "execute_result"
    }
   ],
   "source": [
    "sgd_sc.coef_"
   ]
  },
  {
   "cell_type": "code",
   "execution_count": 85,
   "metadata": {},
   "outputs": [
    {
     "data": {
      "text/plain": [
       "array([-1.08011358e-01,  4.64204584e-02,  2.05586264e-02,  2.68673382e+00,\n",
       "       -1.77666112e+01,  3.80986521e+00,  6.92224640e-04, -1.47556685e+00,\n",
       "        3.06049479e-01, -1.23345939e-02, -9.52747232e-01,  9.31168327e-03,\n",
       "       -5.24758378e-01])"
      ]
     },
     "execution_count": 85,
     "metadata": {},
     "output_type": "execute_result"
    }
   ],
   "source": [
    "lr.coef_"
   ]
  },
  {
   "cell_type": "code",
   "execution_count": 14,
   "metadata": {},
   "outputs": [
    {
     "data": {
      "text/plain": [
       "[<matplotlib.lines.Line2D at 0x15d8dab20>]"
      ]
     },
     "execution_count": 14,
     "metadata": {},
     "output_type": "execute_result"
    },
    {
     "data": {
      "image/png": "[encoded data removed]",
      "text/plain": [
       "<Figure size 432x288 with 1 Axes>"
      ]
     },
     "metadata": {
      "needs_background": "light"
     },
     "output_type": "display_data"
    }
   ],
   "source": [
    "import matplotlib.pyplot as plt\n",
    "\n",
    "fig, ax = plt.subplots()\n",
    "ax.plot(coef_0, loss)"
   ]
  },
  {
   "cell_type": "raw",
   "metadata": {},
   "source": [
    "Compare that to a full fit of the SGDRegressor."
   ]
  },
  {
   "cell_type": "code",
   "execution_count": 15,
   "metadata": {},
   "outputs": [
    {
     "name": "stderr",
     "output_type": "stream",
     "text": [
      "/Users/johnmaxbarry/anaconda3/envs/learn-env/lib/python3.8/site-packages/sklearn/linear_model/_stochastic_gradient.py:1208: ConvergenceWarning: Maximum number of iteration reached before convergence. Consider increasing max_iter to improve the fit.\n",
      "  warnings.warn(\"Maximum number of iteration reached before \"\n"
     ]
    },
    {
     "data": {
      "text/plain": [
       "SGDRegressor(penalty=None)"
      ]
     },
     "execution_count": 15,
     "metadata": {},
     "output_type": "execute_result"
    }
   ],
   "source": [
    "# code\n",
    "sgd.fit(X,y)"
   ]
  },
  {
   "cell_type": "code",
   "execution_count": 16,
   "metadata": {},
   "outputs": [
    {
     "data": {
      "text/plain": [
       "array([  47.96827157,  -41.98141051,  279.55838156,  193.37895453,\n",
       "         32.81047805,    4.14153642, -156.90665958,  138.29408461,\n",
       "        245.69014148,  133.82231668])"
      ]
     },
     "execution_count": 16,
     "metadata": {},
     "output_type": "execute_result"
    }
   ],
   "source": [
    "sgd.coef_"
   ]
  },
  {
   "cell_type": "code",
   "execution_count": 25,
   "metadata": {},
   "outputs": [
    {
     "data": {
      "text/plain": [
       "array([ -10.01219782, -239.81908937,  519.83978679,  324.39042769,\n",
       "       -792.18416163,  476.74583782,  101.04457032,  177.06417623,\n",
       "        751.27932109,   67.62538639])"
      ]
     },
     "execution_count": 25,
     "metadata": {},
     "output_type": "execute_result"
    }
   ],
   "source": [
    "from sklearn.linear_model import LinearRegression\n",
    "lr = LinearRegression()\n",
    "lr.fit(X, y)\n",
    "lr.coef_"
   ]
  },
  {
   "cell_type": "code",
   "execution_count": 34,
   "metadata": {},
   "outputs": [
    {
     "data": {
      "text/plain": [
       "2859.6903987680657"
      ]
     },
     "execution_count": 34,
     "metadata": {},
     "output_type": "execute_result"
    }
   ],
   "source": [
    "mean_squared_error(y, lr.predict(X))"
   ]
  },
  {
   "cell_type": "code",
   "execution_count": 29,
   "metadata": {},
   "outputs": [],
   "source": [
    "# code\n",
    "coef_0 = []\n",
    "loss = []\n",
    "\n",
    "sgd = SGDRegressor(penalty=None)\n",
    "for _ in range(10000):\n",
    "    sgd.partial_fit(X,y)\n",
    "    coef_0.append(sgd.coef_[0])\n",
    "    loss.append(mean_squared_error(y, sgd.predict(X)))"
   ]
  },
  {
   "cell_type": "code",
   "execution_count": 31,
   "metadata": {},
   "outputs": [
    {
     "data": {
      "text/plain": [
       "array([ 2.46223394e-01, -2.16779253e+02,  5.06832760e+02,  3.11482222e+02,\n",
       "       -4.98778687e+01, -1.14792937e+02, -2.08271838e+02,  1.24160285e+02,\n",
       "        4.28093550e+02,  1.04708053e+02])"
      ]
     },
     "execution_count": 31,
     "metadata": {},
     "output_type": "execute_result"
    }
   ],
   "source": [
    "sgd.coef_"
   ]
  },
  {
   "cell_type": "code",
   "execution_count": 32,
   "metadata": {},
   "outputs": [
    {
     "data": {
      "text/plain": [
       "2887.678604670771"
      ]
     },
     "execution_count": 32,
     "metadata": {},
     "output_type": "execute_result"
    }
   ],
   "source": [
    "mean_squared_error(y, sgd.predict(X))"
   ]
  },
  {
   "cell_type": "markdown",
   "metadata": {},
   "source": [
    "# Try the same with scaled data."
   ]
  },
  {
   "cell_type": "code",
   "execution_count": 35,
   "metadata": {},
   "outputs": [],
   "source": [
    "from sklearn.preprocessing import StandardScaler\n",
    "ss = StandardScaler()\n",
    "X_sc = ss.fit_transform(X)"
   ]
  },
  {
   "cell_type": "code",
   "execution_count": 55,
   "metadata": {},
   "outputs": [
    {
     "data": {
      "text/html": [
       "<div>\n",
       "<style scoped>\n",
       "    .dataframe tbody tr th:only-of-type {\n",
       "        vertical-align: middle;\n",
       "    }\n",
       "\n",
       "    .dataframe tbody tr th {\n",
       "        vertical-align: top;\n",
       "    }\n",
       "\n",
       "    .dataframe thead th {\n",
       "        text-align: right;\n",
       "    }\n",
       "</style>\n",
       "<table border=\"1\" class=\"dataframe\">\n",
       "  <thead>\n",
       "    <tr style=\"text-align: right;\">\n",
       "      <th></th>\n",
       "      <th>0</th>\n",
       "      <th>1</th>\n",
       "      <th>2</th>\n",
       "      <th>3</th>\n",
       "      <th>4</th>\n",
       "      <th>5</th>\n",
       "      <th>6</th>\n",
       "      <th>7</th>\n",
       "      <th>8</th>\n",
       "      <th>9</th>\n",
       "    </tr>\n",
       "  </thead>\n",
       "  <tbody>\n",
       "    <tr>\n",
       "      <th>count</th>\n",
       "      <td>4.420000e+02</td>\n",
       "      <td>4.420000e+02</td>\n",
       "      <td>4.420000e+02</td>\n",
       "      <td>4.420000e+02</td>\n",
       "      <td>4.420000e+02</td>\n",
       "      <td>4.420000e+02</td>\n",
       "      <td>4.420000e+02</td>\n",
       "      <td>4.420000e+02</td>\n",
       "      <td>442.000000</td>\n",
       "      <td>4.420000e+02</td>\n",
       "    </tr>\n",
       "    <tr>\n",
       "      <th>mean</th>\n",
       "      <td>-3.215126e-17</td>\n",
       "      <td>-6.430251e-17</td>\n",
       "      <td>-4.420798e-17</td>\n",
       "      <td>8.037814e-18</td>\n",
       "      <td>2.411344e-17</td>\n",
       "      <td>-2.009453e-17</td>\n",
       "      <td>2.411344e-17</td>\n",
       "      <td>-2.411344e-17</td>\n",
       "      <td>0.000000</td>\n",
       "      <td>-3.215126e-17</td>\n",
       "    </tr>\n",
       "    <tr>\n",
       "      <th>std</th>\n",
       "      <td>1.001133e+00</td>\n",
       "      <td>1.001133e+00</td>\n",
       "      <td>1.001133e+00</td>\n",
       "      <td>1.001133e+00</td>\n",
       "      <td>1.001133e+00</td>\n",
       "      <td>1.001133e+00</td>\n",
       "      <td>1.001133e+00</td>\n",
       "      <td>1.001133e+00</td>\n",
       "      <td>1.001133</td>\n",
       "      <td>1.001133e+00</td>\n",
       "    </tr>\n",
       "    <tr>\n",
       "      <th>min</th>\n",
       "      <td>-2.254290e+00</td>\n",
       "      <td>-9.385367e-01</td>\n",
       "      <td>-1.897929e+00</td>\n",
       "      <td>-2.363066e+00</td>\n",
       "      <td>-2.665411e+00</td>\n",
       "      <td>-2.430626e+00</td>\n",
       "      <td>-2.150883e+00</td>\n",
       "      <td>-1.606102e+00</td>\n",
       "      <td>-2.651046</td>\n",
       "      <td>-2.896390e+00</td>\n",
       "    </tr>\n",
       "    <tr>\n",
       "      <th>25%</th>\n",
       "      <td>-7.841722e-01</td>\n",
       "      <td>-9.385367e-01</td>\n",
       "      <td>-7.196249e-01</td>\n",
       "      <td>-7.706577e-01</td>\n",
       "      <td>-7.200196e-01</td>\n",
       "      <td>-6.382488e-01</td>\n",
       "      <td>-7.382960e-01</td>\n",
       "      <td>-8.303008e-01</td>\n",
       "      <td>-0.699016</td>\n",
       "      <td>-6.975491e-01</td>\n",
       "    </tr>\n",
       "    <tr>\n",
       "      <th>50%</th>\n",
       "      <td>1.131724e-01</td>\n",
       "      <td>-9.385367e-01</td>\n",
       "      <td>-1.531324e-01</td>\n",
       "      <td>-1.192178e-01</td>\n",
       "      <td>-9.084100e-02</td>\n",
       "      <td>-8.029125e-02</td>\n",
       "      <td>-1.384305e-01</td>\n",
       "      <td>-5.449919e-02</td>\n",
       "      <td>-0.040947</td>\n",
       "      <td>-2.265729e-02</td>\n",
       "    </tr>\n",
       "    <tr>\n",
       "      <th>75%</th>\n",
       "      <td>8.005001e-01</td>\n",
       "      <td>1.065488e+00</td>\n",
       "      <td>6.569519e-01</td>\n",
       "      <td>7.493688e-01</td>\n",
       "      <td>5.961931e-01</td>\n",
       "      <td>6.274425e-01</td>\n",
       "      <td>6.162390e-01</td>\n",
       "      <td>7.213025e-01</td>\n",
       "      <td>0.681870</td>\n",
       "      <td>5.869224e-01</td>\n",
       "    </tr>\n",
       "    <tr>\n",
       "      <th>max</th>\n",
       "      <td>2.327895e+00</td>\n",
       "      <td>1.065488e+00</td>\n",
       "      <td>3.585718e+00</td>\n",
       "      <td>2.776071e+00</td>\n",
       "      <td>3.235851e+00</td>\n",
       "      <td>4.179278e+00</td>\n",
       "      <td>3.809072e+00</td>\n",
       "      <td>3.894331e+00</td>\n",
       "      <td>2.808758</td>\n",
       "      <td>2.851075e+00</td>\n",
       "    </tr>\n",
       "  </tbody>\n",
       "</table>\n",
       "</div>"
      ],
      "text/plain": [
       "                  0             1             2             3             4  \\\n",
       "count  4.420000e+02  4.420000e+02  4.420000e+02  4.420000e+02  4.420000e+02   \n",
       "mean  -3.215126e-17 -6.430251e-17 -4.420798e-17  8.037814e-18  2.411344e-17   \n",
       "std    1.001133e+00  1.001133e+00  1.001133e+00  1.001133e+00  1.001133e+00   \n",
       "min   -2.254290e+00 -9.385367e-01 -1.897929e+00 -2.363066e+00 -2.665411e+00   \n",
       "25%   -7.841722e-01 -9.385367e-01 -7.196249e-01 -7.706577e-01 -7.200196e-01   \n",
       "50%    1.131724e-01 -9.385367e-01 -1.531324e-01 -1.192178e-01 -9.084100e-02   \n",
       "75%    8.005001e-01  1.065488e+00  6.569519e-01  7.493688e-01  5.961931e-01   \n",
       "max    2.327895e+00  1.065488e+00  3.585718e+00  2.776071e+00  3.235851e+00   \n",
       "\n",
       "                  5             6             7           8             9  \n",
       "count  4.420000e+02  4.420000e+02  4.420000e+02  442.000000  4.420000e+02  \n",
       "mean  -2.009453e-17  2.411344e-17 -2.411344e-17    0.000000 -3.215126e-17  \n",
       "std    1.001133e+00  1.001133e+00  1.001133e+00    1.001133  1.001133e+00  \n",
       "min   -2.430626e+00 -2.150883e+00 -1.606102e+00   -2.651046 -2.896390e+00  \n",
       "25%   -6.382488e-01 -7.382960e-01 -8.303008e-01   -0.699016 -6.975491e-01  \n",
       "50%   -8.029125e-02 -1.384305e-01 -5.449919e-02   -0.040947 -2.265729e-02  \n",
       "75%    6.274425e-01  6.162390e-01  7.213025e-01    0.681870  5.869224e-01  \n",
       "max    4.179278e+00  3.809072e+00  3.894331e+00    2.808758  2.851075e+00  "
      ]
     },
     "execution_count": 55,
     "metadata": {},
     "output_type": "execute_result"
    }
   ],
   "source": [
    "import pandas as pd\n",
    "pd.DataFrame(X_sc).describe()"
   ]
  },
  {
   "cell_type": "code",
   "execution_count": 36,
   "metadata": {},
   "outputs": [],
   "source": [
    "# code\n",
    "coef_0 = []\n",
    "loss = []\n",
    "\n",
    "sgd_sc = SGDRegressor(penalty=None)\n",
    "for _ in range(10000):\n",
    "    sgd_sc.partial_fit(X_sc,y)\n",
    "    coef_0.append(sgd_sc.coef_[0])\n",
    "    loss.append(mean_squared_error(y, sgd_sc.predict(X_sc)))"
   ]
  },
  {
   "cell_type": "code",
   "execution_count": 37,
   "metadata": {},
   "outputs": [
    {
     "data": {
      "text/plain": [
       "[<matplotlib.lines.Line2D at 0x15fd5d5b0>]"
      ]
     },
     "execution_count": 37,
     "metadata": {},
     "output_type": "execute_result"
    },
    {
     "data": {
      "image/png": "[encoded data removed]",
      "text/plain": [
       "<Figure size 432x288 with 1 Axes>"
      ]
     },
     "metadata": {
      "needs_background": "light"
     },
     "output_type": "display_data"
    }
   ],
   "source": [
    "import matplotlib.pyplot as plt\n",
    "\n",
    "fig, ax = plt.subplots()\n",
    "ax.plot(coef_0, loss)"
   ]
  },
  {
   "cell_type": "code",
   "execution_count": 38,
   "metadata": {},
   "outputs": [
    {
     "data": {
      "text/plain": [
       "array([ -0.47657511, -11.40320942,  24.71988401,  15.41499735,\n",
       "       -37.69763747,  22.66430961,   4.79129232,   8.39846079,\n",
       "        35.7123744 ,   3.2122573 ])"
      ]
     },
     "execution_count": 38,
     "metadata": {},
     "output_type": "execute_result"
    }
   ],
   "source": [
    "sgd_sc.coef_"
   ]
  },
  {
   "cell_type": "markdown",
   "metadata": {},
   "source": [
    "With scaled data, the SGD regressor is able to achieve essentially the same results as linear regression."
   ]
  },
  {
   "cell_type": "code",
   "execution_count": 40,
   "metadata": {},
   "outputs": [
    {
     "data": {
      "text/plain": [
       "2859.69513059776"
      ]
     },
     "execution_count": 40,
     "metadata": {},
     "output_type": "execute_result"
    }
   ],
   "source": [
    "mean_squared_error(y, sgd_sc.predict(X_sc))"
   ]
  },
  {
   "cell_type": "markdown",
   "metadata": {},
   "source": [
    "# Standard Scale"
   ]
  },
  {
   "cell_type": "code",
   "execution_count": 41,
   "metadata": {},
   "outputs": [
    {
     "data": {
      "text/plain": [
       "array([ -0.47623169, -11.40703082,  24.72625713,  15.42967916,\n",
       "       -37.68035801,  22.67648701,   4.80620008,   8.422084  ,\n",
       "        35.73471316,   3.21661161])"
      ]
     },
     "execution_count": 41,
     "metadata": {},
     "output_type": "execute_result"
    }
   ],
   "source": [
    "from sklearn.linear_model import LinearRegression\n",
    "lr = LinearRegression()\n",
    "lr.fit(X_sc, y)\n",
    "lr.coef_"
   ]
  },
  {
   "cell_type": "code",
   "execution_count": 42,
   "metadata": {},
   "outputs": [
    {
     "data": {
      "text/plain": [
       "2859.6903987680657"
      ]
     },
     "execution_count": 42,
     "metadata": {},
     "output_type": "execute_result"
    }
   ],
   "source": [
    "mean_squared_error(y, lr.predict(X_sc))"
   ]
  },
  {
   "cell_type": "code",
   "execution_count": null,
   "metadata": {},
   "outputs": [],
   "source": []
  }
 ],
 "metadata": {
  "kernelspec": {
   "display_name": "learn-env",
   "language": "python",
   "name": "learn-env"
  },
  "language_info": {
   "codemirror_mode": {
    "name": "ipython",
    "version": 3
   },
   "file_extension": ".py",
   "mimetype": "text/x-python",
   "name": "python",
   "nbconvert_exporter": "python",
   "pygments_lexer": "ipython3",
   "version": "3.7.3"
  },
  "toc": {
   "base_numbering": 1,
   "nav_menu": {},
   "number_sections": true,
   "sideBar": true,
   "skip_h1_title": false,
   "title_cell": "Table of Contents",
   "title_sidebar": "Contents",
   "toc_cell": false,
   "toc_position": {},
   "toc_section_display": true,
   "toc_window_display": false
  },
  "varInspector": {
   "cols": {
    "lenName": 16,
    "lenType": 16,
    "lenVar": 40
   },
   "kernels_config": {
    "python": {
     "delete_cmd_postfix": "",
     "delete_cmd_prefix": "del ",
     "library": "var_list.py",
     "varRefreshCmd": "print(var_dic_list())"
    },
    "r": {
     "delete_cmd_postfix": ") ",
     "delete_cmd_prefix": "rm(",
     "library": "var_list.r",
     "varRefreshCmd": "cat(var_dic_list()) "
    }
   },
   "types_to_exclude": [
    "module",
    "function",
    "builtin_function_or_method",
    "instance",
    "_Feature"
   ],
   "window_display": false
  }
 },
 "nbformat": 4,
 "nbformat_minor": 4
}
